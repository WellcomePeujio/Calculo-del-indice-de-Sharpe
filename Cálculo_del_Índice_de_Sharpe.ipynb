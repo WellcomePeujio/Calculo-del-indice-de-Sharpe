{
  "nbformat": 4,
  "nbformat_minor": 0,
  "metadata": {
    "colab": {
      "private_outputs": true,
      "provenance": [],
      "authorship_tag": "ABX9TyM/W8w7owwrDQzi3m5BhVcK",
      "include_colab_link": true
    },
    "kernelspec": {
      "name": "python3",
      "display_name": "Python 3"
    },
    "language_info": {
      "name": "python"
    }
  },
  "cells": [
    {
      "cell_type": "markdown",
      "metadata": {
        "id": "view-in-github",
        "colab_type": "text"
      },
      "source": [
        "<a href=\"https://colab.research.google.com/github/WellcomePeujio/Calculo-del-indice-de-Sharpe/blob/main/C%C3%A1lculo_del_%C3%8Dndice_de_Sharpe.ipynb\" target=\"_parent\"><img src=\"https://colab.research.google.com/assets/colab-badge.svg\" alt=\"Open In Colab\"/></a>"
      ]
    },
    {
      "cell_type": "markdown",
      "source": [
        "# Optimización de Precios: Cálculo del Índice de Sharpe\n",
        "\n",
        "## Problema\n",
        "\n",
        "Un portafolio de inversión tiene los siguientes datos:\n",
        "- **Rendimiento esperado**: 12%\n",
        "- **Desviación estándar**: 8%\n",
        "- **Tasa libre de riesgo**: 2%\n",
        "\n",
        "## Preguntas:\n",
        "\n",
        "1. **Calcula el índice de Sharpe del portafolio.**\n",
        "2. **¿Cómo cambiaría el índice de Sharpe si la desviación estándar se reduce al 6%?**\n",
        "\n",
        "\n"
      ],
      "metadata": {
        "id": "Wb_-Sy_Y6CE5"
      }
    },
    {
      "cell_type": "markdown",
      "source": [
        "# Resolución Matemática: Cálculo del Índice de Sharpe\n",
        "\n",
        "## Datos del problema:\n",
        "\n",
        "- **Rendimiento esperado del portafolio** (\\$( R_p \\$)): 12% o 0.12\n",
        "- **Desviación estándar del portafolio** (\\$( \\sigma_p \\$)): 8% o 0.08\n",
        "- **Tasa libre de riesgo** (\\$( R_f \\$)): 2% o 0.02\n",
        "\n",
        "El índice de Sharpe se calcula con la siguiente fórmula:\n",
        "\n",
        "$$\n",
        "S = \\frac{R_p - R_f}{\\sigma_p}\n",
        "$$\n",
        "\n",
        "### Pregunta 1: ¿Cuál es el índice de Sharpe del portafolio?\n",
        "\n",
        "### Paso 1: Sustitución de los valores en la fórmula del índice de Sharpe\n",
        "\n",
        "$$\n",
        "S = \\frac{0.12 - 0.02}{0.08}\n",
        "$$\n",
        "\n",
        "$$\n",
        "S = \\frac{0.10}{0.08} = 1.25\n",
        "$$\n",
        "\n",
        "El índice de Sharpe del portafolio es **1.25**.\n",
        "\n",
        "### Pregunta 2: ¿Cómo cambiaría el índice de Sharpe si la desviación estándar se reduce al 6%?\n",
        "\n",
        "Si la desviación estándar del portafolio (\\$( \\sigma_p \\$)) se reduce al 6% o 0.06, el índice de Sharpe se calcula de la misma manera:\n",
        "\n",
        "$$\n",
        "S = \\frac{0.12 - 0.02}{0.06}\n",
        "$$\n",
        "\n",
        "$$\n",
        "S = \\frac{0.10}{0.06} = 1.67\n",
        "$$\n",
        "\n",
        "El nuevo índice de Sharpe sería **1.67**.\n",
        "\n",
        "## Resultados:\n",
        "\n",
        "- **Índice de Sharpe original**: 1.25\n",
        "- **Índice de Sharpe con desviación estándar reducida**: 1.67\n"
      ],
      "metadata": {
        "id": "sp0phSAN6YeK"
      }
    },
    {
      "cell_type": "code",
      "source": [
        "import numpy as np\n",
        "import matplotlib.pyplot as plt\n",
        "\n",
        "# Datos del problema\n",
        "rendimiento_portafolio = 0.12  # 12%\n",
        "tasa_libre_riesgo = 0.02  # 2%\n",
        "desviacion_estandar_original = 0.08  # 8%\n",
        "desviacion_estandar_reducida = 0.06  # 6%\n",
        "\n",
        "# Función para calcular el índice de Sharpe\n",
        "def calcular_sharpe(rendimiento_portafolio, tasa_libre_riesgo, desviacion_estandar):\n",
        "    return (rendimiento_portafolio - tasa_libre_riesgo) / desviacion_estandar\n",
        "\n",
        "# Cálculo del índice de Sharpe en ambas situaciones\n",
        "sharpe_original = calcular_sharpe(rendimiento_portafolio, tasa_libre_riesgo, desviacion_estandar_original)\n",
        "sharpe_reducido = calcular_sharpe(rendimiento_portafolio, tasa_libre_riesgo, desviacion_estandar_reducida)\n",
        "\n",
        "# Mostrar resultados\n",
        "print(f\"Índice de Sharpe original: {sharpe_original:.2f}\")\n",
        "print(f\"Índice de Sharpe con desviación estándar reducida: {sharpe_reducido:.2f}\")\n",
        "\n",
        "# Crear la gráfica\n",
        "desviaciones_estandar = np.linspace(0.04, 0.12, 100)\n",
        "sharpe_values = calcular_sharpe(rendimiento_portafolio, tasa_libre_riesgo, desviaciones_estandar)\n",
        "\n",
        "plt.figure(figsize=(10, 6))\n",
        "plt.plot(desviaciones_estandar, sharpe_values, label='Índice de Sharpe', color='blue', linewidth=2)\n",
        "plt.scatter([desviacion_estandar_original, desviacion_estandar_reducida], [sharpe_original, sharpe_reducido], color='red')\n",
        "plt.axvline(x=desviacion_estandar_original, color='green', linestyle='--', label=f'Desviación estándar original: {desviacion_estandar_original:.2f}')\n",
        "plt.axvline(x=desviacion_estandar_reducida, color='orange', linestyle='--', label=f'Desviación estándar reducida: {desviacion_estandar_reducida:.2f}')\n",
        "plt.title('Índice de Sharpe en función de la desviación estándar')\n",
        "plt.xlabel('Desviación estándar (Volatilidad)')\n",
        "plt.ylabel('Índice de Sharpe')\n",
        "plt.legend()\n",
        "plt.grid(True)\n",
        "\n",
        "# Mostrar la gráfica\n",
        "plt.show()"
      ],
      "metadata": {
        "id": "BavY6Y8L7AkM"
      },
      "execution_count": null,
      "outputs": []
    }
  ]
}